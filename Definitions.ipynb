{
 "cells": [
  {
   "cell_type": "code",
   "execution_count": null,
   "metadata": {},
   "outputs": [],
   "source": [
    "def my_function(x):\n",
    "    return 5*x+1333-x**2"
   ]
  },
  {
   "cell_type": "code",
   "execution_count": null,
   "metadata": {},
   "outputs": [],
   "source": [
    "print(my_function(3))\n",
    "print(my_function(5))\n",
    "print(my_function(9))"
   ]
  },
  {
   "cell_type": "code",
   "execution_count": null,
   "metadata": {},
   "outputs": [],
   "source": [
    "\n",
    "\n",
    "def add(list1):\n",
    "    print(sum(list1))\n",
    "\n",
    "\n",
    "any=[1,2,3,4,5]\n",
    "add(any)\n"
   ]
  },
  {
   "cell_type": "code",
   "execution_count": null,
   "metadata": {},
   "outputs": [],
   "source": [
    "def values(list2):\n",
    "    c=1\n",
    "    for i in list2:\n",
    "        c*=i\n",
    "    print(c)\n",
    "\n",
    "\n",
    "any=[1,2,3,4,5]\n",
    "values(any)"
   ]
  },
  {
   "cell_type": "code",
   "execution_count": null,
   "metadata": {},
   "outputs": [],
   "source": [
    "def even_odd(thing):\n",
    "    if thing%2==0:\n",
    "        print(thing,\"is even\")\n",
    "    elif thing%2==1:\n",
    "        print(thing,\"is odd\")\n",
    "k=0\n",
    "while k<1:\n",
    "    try:\n",
    "        x=int(input(\"number\"))\n",
    "        even_odd(x)\n",
    "        k+=1\n",
    "    except:\n",
    "        print(\"input an intiger\")\n"
   ]
  },
  {
   "cell_type": "code",
   "execution_count": null,
   "metadata": {},
   "outputs": [],
   "source": [
    "def max(list3):\n",
    "    a=0\n",
    "    for i in list3:\n",
    "        if a<i:\n",
    "            a=i\n",
    "    return \"the max of the list is\",a\n",
    "    \n",
    "any=[1.1,2.3,5,8.293,8.294]\n",
    "max(any)"
   ]
  },
  {
   "cell_type": "code",
   "execution_count": null,
   "metadata": {},
   "outputs": [],
   "source": [
    "def average(list4):\n",
    "    b=0\n",
    "    for i in list4:\n",
    "        b+=i\n",
    "    return \"average of the list is\",b/len(list4)\n",
    "\n",
    "\n",
    "any=[1.1,2.3]\n",
    "average(any)"
   ]
  },
  {
   "cell_type": "code",
   "execution_count": 24,
   "metadata": {},
   "outputs": [
    {
     "data": {
      "text/plain": [
       "'string is not a pangram'"
      ]
     },
     "execution_count": 24,
     "metadata": {},
     "output_type": "execute_result"
    }
   ],
   "source": [
    "def pangram(list5):\n",
    "    d=0\n",
    "    alphabet=[\"a\",\"b\",\"c\",\"d\",\"e\",\"f\",\"g\",\"h\",\"i\",\"j\",\"k\",\"l\",\"m\",\"n\",\"o\",\"p\",\"q\",\"r\",\"s\",\"t\",\"u\",\"v\",\"w\",\"x\",\"y\",\"z\"]\n",
    "    for i in alphabet:\n",
    "        if i in list5:\n",
    "            d+=1\n",
    "    if d==26:\n",
    "        return \"string is a pangram\"\n",
    "    elif d!=26:\n",
    "        return \"string is not a pangram\"\n",
    "\n",
    "sentence=input(\"the sentence\")\n",
    "pangram(sentence)"
   ]
  }
 ],
 "metadata": {
  "kernelspec": {
   "display_name": "Python 3",
   "language": "python",
   "name": "python3"
  },
  "language_info": {
   "codemirror_mode": {
    "name": "ipython",
    "version": 3
   },
   "file_extension": ".py",
   "mimetype": "text/x-python",
   "name": "python",
   "nbconvert_exporter": "python",
   "pygments_lexer": "ipython3",
   "version": "3.9.6"
  }
 },
 "nbformat": 4,
 "nbformat_minor": 2
}
