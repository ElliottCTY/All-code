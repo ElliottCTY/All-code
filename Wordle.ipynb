{
 "cells": [
  {
   "cell_type": "code",
   "execution_count": 1,
   "metadata": {},
   "outputs": [],
   "source": [
    "secret=\"words\"\n",
    "y=0\n",
    "a=0\n",
    "b=0"
   ]
  },
  {
   "cell_type": "code",
   "execution_count": 2,
   "metadata": {},
   "outputs": [],
   "source": [
    "gameboard=[[\"_\",\"_\",\"_\",\"_\",\"_\"],\n",
    "           [\"_\",\"_\",\"_\",\"_\",\"_\"],\n",
    "           [\"_\",\"_\",\"_\",\"_\",\"_\"],\n",
    "           [\"_\",\"_\",\"_\",\"_\",\"_\"],\n",
    "           [\"_\",\"_\",\"_\",\"_\",\"_\"],\n",
    "           [\"_\",\"_\",\"_\",\"_\",\"_\"]]\n",
    "def board():\n",
    "    for i in gameboard:\n",
    "        print(i)\n",
    "\n",
    "    print(\"--------------------\")"
   ]
  },
  {
   "cell_type": "code",
   "execution_count": 3,
   "metadata": {},
   "outputs": [
    {
     "name": "stdout",
     "output_type": "stream",
     "text": [
      "['_', '_', '_', '_', '_']\n",
      "['_', '_', '_', '_', '_']\n",
      "['W', 'O', 'R', 'D', 'e']\n",
      "['_', '_', '_', '_', '_']\n",
      "['_', '_', '_', '_', '_']\n",
      "['_', '_', '_', '_', '_']\n",
      "--------------------\n",
      "Ran out of space you lose\n",
      "The word was words\n"
     ]
    }
   ],
   "source": [
    "while b<6:\n",
    "        for i in range(0,len(gameboard)):\n",
    "            answer1=input(\"what is the word? >> \")\n",
    "            if len(answer1)==5:\n",
    "                for j in range(0,len(answer1)):\n",
    "                    if answer1[j] in secret:\n",
    "                        if answer1[j]==secret[j]:\n",
    "\n",
    "                            gameboard[i][j]=answer1[j].upper()\n",
    "                            y+=1\n",
    "                        else:\n",
    "                            gameboard[i][j]=answer1[j]+\"*\"\n",
    "                    else:\n",
    "                        gameboard[i][j]=answer1[j]\n",
    "                if y==5:\n",
    "                    board()\n",
    "                    print(\"Congrats, You Guessed the Word!\")\n",
    "                    a=1\n",
    "                    b+=6\n",
    "                    break\n",
    "                elif y<5:\n",
    "                    y=0\n",
    "\n",
    "\n",
    "                board()\n",
    "                b+=1\n",
    "            elif len(answer1)>5 and len(answer1)<5:\n",
    "                print(\"input a FIVE letter word\")\n",
    "        if a==0:\n",
    "            print(\"Ran out of space you lose\\nThe word was\",secret)\n",
    "        elif a==1:\n",
    "            pass\n",
    "\n"
   ]
  }
 ],
 "metadata": {
  "kernelspec": {
   "display_name": "Python 3",
   "language": "python",
   "name": "python3"
  },
  "language_info": {
   "codemirror_mode": {
    "name": "ipython",
    "version": 3
   },
   "file_extension": ".py",
   "mimetype": "text/x-python",
   "name": "python",
   "nbconvert_exporter": "python",
   "pygments_lexer": "ipython3",
   "version": "3.9.6"
  }
 },
 "nbformat": 4,
 "nbformat_minor": 2
}
